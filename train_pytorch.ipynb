{
 "cells": [
  {
   "cell_type": "markdown",
   "metadata": {},
   "source": [
    "# Setup"
   ]
  },
  {
   "cell_type": "code",
   "execution_count": 1,
   "metadata": {},
   "outputs": [],
   "source": [
    "%reload_ext autoreload\n",
    "%autoreload 2"
   ]
  },
  {
   "cell_type": "code",
   "execution_count": 2,
   "metadata": {},
   "outputs": [
    {
     "data": {
      "text/plain": [
       "'2.2.2'"
      ]
     },
     "execution_count": 2,
     "metadata": {},
     "output_type": "execute_result"
    }
   ],
   "source": [
    "import matplotlib\n",
    "from matplotlib import pyplot as plt\n",
    "matplotlib.__version__"
   ]
  },
  {
   "cell_type": "code",
   "execution_count": 3,
   "metadata": {},
   "outputs": [],
   "source": [
    "%matplotlib inline"
   ]
  },
  {
   "cell_type": "code",
   "execution_count": 4,
   "metadata": {},
   "outputs": [],
   "source": [
    "from pathlib import Path\n",
    "import numpy as np"
   ]
  },
  {
   "cell_type": "code",
   "execution_count": 5,
   "metadata": {},
   "outputs": [],
   "source": [
    "import torch\n",
    "import torchvision"
   ]
  },
  {
   "cell_type": "code",
   "execution_count": 6,
   "metadata": {},
   "outputs": [
    {
     "data": {
      "text/plain": [
       "('1.0.0', '0.2.1')"
      ]
     },
     "execution_count": 6,
     "metadata": {},
     "output_type": "execute_result"
    }
   ],
   "source": [
    "torch.__version__, torchvision.__version__"
   ]
  },
  {
   "cell_type": "code",
   "execution_count": 7,
   "metadata": {
    "code_folding": []
   },
   "outputs": [
    {
     "data": {
      "text/plain": [
       "{'mean': [0.485, 0.456, 0.406], 'std': [0.229, 0.224, 0.225]}"
      ]
     },
     "execution_count": 7,
     "metadata": {},
     "output_type": "execute_result"
    }
   ],
   "source": [
    "imagenet_stats = {\n",
    "    'mean': [0.485, 0.456, 0.406],\n",
    "    'std': [0.229, 0.224, 0.225]\n",
    "}\n",
    "imagenet_stats"
   ]
  },
  {
   "cell_type": "markdown",
   "metadata": {},
   "source": [
    "# Load Data"
   ]
  },
  {
   "cell_type": "code",
   "execution_count": 8,
   "metadata": {},
   "outputs": [],
   "source": [
    "import time\n",
    "import os\n",
    "import copy\n",
    "import numpy as np\n",
    "import matplotlib.pyplot as plt\n",
    "\n",
    "import torch\n",
    "from torch.utils.data import Dataset, DataLoader\n",
    "from torchvision import models, transforms\n",
    "import torch.optim as optim\n",
    "import torch.nn as nn"
   ]
  },
  {
   "cell_type": "code",
   "execution_count": 9,
   "metadata": {},
   "outputs": [
    {
     "data": {
      "text/plain": [
       "device(type='cuda', index=0)"
      ]
     },
     "execution_count": 9,
     "metadata": {},
     "output_type": "execute_result"
    }
   ],
   "source": [
    "device = torch.device('cuda:0' if torch.cuda.is_available() else 'cpu')\n",
    "device"
   ]
  },
  {
   "cell_type": "code",
   "execution_count": 10,
   "metadata": {},
   "outputs": [],
   "source": [
    "import json\n",
    "with open('cat_to_name.json') as f:\n",
    "    cat_to_name = json.load(f)"
   ]
  },
  {
   "cell_type": "code",
   "execution_count": 11,
   "metadata": {},
   "outputs": [],
   "source": [
    "data_path = Path('flower_data')"
   ]
  },
  {
   "cell_type": "code",
   "execution_count": 14,
   "metadata": {
    "code_folding": []
   },
   "outputs": [],
   "source": [
    "train_transform = transforms.Compose([\n",
    "    transforms.RandomHorizontalFlip(),\n",
    "    transforms.RandomAffine(degrees=45, shear=(10, 10), translate=(.0, .10), scale=(1.0, 1.2)),\n",
    "#         transforms.ColorJitter(brightness=0.3),\n",
    "#         transforms.ColorJitter(brightness=0.1, contrast=0.1, saturation=0.1, hue=0.1),\n",
    "    transforms.Resize(256),\n",
    "    transforms.RandomCrop(224),\n",
    "#         transforms.RandomResizedCrop(),\n",
    "    transforms.ToTensor(),\n",
    "    transforms.Normalize(**imagenet_stats)\n",
    "])\n",
    "\n",
    "train_transform_basic = transforms.Compose([\n",
    "    transforms.RandomHorizontalFlip(),\n",
    "    transforms.Resize(256),\n",
    "    transforms.RandomCrop(224),\n",
    "    transforms.ToTensor(),\n",
    "    transforms.Normalize(**imagenet_stats)\n",
    "])\n",
    "\n",
    "valid_transform = transforms.Compose([\n",
    "    transforms.Resize(256),\n",
    "    transforms.CenterCrop(224),\n",
    "    transforms.ToTensor(),\n",
    "    transforms.Normalize(**imagenet_stats)\n",
    "])\n",
    "\n",
    "valid_transform_tta = transforms.Compose([\n",
    "    transforms.Resize(256),\n",
    "    transforms.TenCrop(224),\n",
    "    transforms.Lambda(lambda crops: torch.stack([\n",
    "        transforms.Normalize(**imagenet_stats)(transforms.ToTensor()(crop))\n",
    "        for crop in crops]))\n",
    "])"
   ]
  },
  {
   "cell_type": "markdown",
   "metadata": {},
   "source": [
    "# Train Model"
   ]
  },
  {
   "cell_type": "markdown",
   "metadata": {},
   "source": [
    "### Fastai tricks"
   ]
  },
  {
   "cell_type": "code",
   "execution_count": 18,
   "metadata": {
    "code_folding": []
   },
   "outputs": [],
   "source": [
    "from flowers.fastai_tricks import *\n",
    "from flowers.schedules import *\n",
    "from flowers.adamw import *"
   ]
  },
  {
   "cell_type": "markdown",
   "metadata": {},
   "source": [
    "### Create, Save, Load Model"
   ]
  },
  {
   "cell_type": "code",
   "execution_count": 19,
   "metadata": {},
   "outputs": [],
   "source": [
    "from flowers.model import *"
   ]
  },
  {
   "cell_type": "markdown",
   "metadata": {},
   "source": [
    "### Train model"
   ]
  },
  {
   "cell_type": "code",
   "execution_count": 20,
   "metadata": {
    "code_folding": []
   },
   "outputs": [],
   "source": [
    "def train_loop(dataloaders, model, criterion, optimizer, scheduler, epochs):\n",
    "    since = time.time()\n",
    "\n",
    "    best_model_wts = None\n",
    "    best_acc = 0.0\n",
    "    best_loss = 100\n",
    "\n",
    "    for epoch in range(epochs):\n",
    "        print(f'Epoch {epoch+1}/{epochs}')\n",
    "        print('-' * 10)\n",
    "\n",
    "        for phase in dataloaders.keys():\n",
    "            if phase == 'train':\n",
    "                model.train()\n",
    "                if hasattr(scheduler, 'step'):\n",
    "                    scheduler.step()\n",
    "            else:\n",
    "                model.eval()\n",
    "            running_loss, running_corrects = 0.0, 0.0\n",
    "\n",
    "            for inputs, labels in dataloaders[phase]:\n",
    "                print('.', end='')\n",
    "                inputs = inputs.to(device)\n",
    "                labels = labels.to(device)\n",
    "\n",
    "                optimizer.zero_grad()\n",
    "\n",
    "                with torch.set_grad_enabled(phase == 'train'):\n",
    "                    if phase == 'train':\n",
    "                        outputs = model(inputs)\n",
    "                        _, preds = torch.max(outputs, 1)\n",
    "                        loss = criterion(outputs, labels)\n",
    "                        loss.backward()\n",
    "                        optimizer.step()\n",
    "                    else:\n",
    "                        ns, ncrops, c, h, w = inputs.size()\n",
    "                        outputs = model(inputs.view(-1, c, h, w))\n",
    "                        outputs_avg = outputs.view(ns, ncrops, -1).mean(1)\n",
    "                        _, preds = torch.max(outputs_avg, 1)\n",
    "                        loss = criterion(outputs_avg, labels)\n",
    "\n",
    "                    running_loss += loss.item() * inputs.size(0)\n",
    "                    running_corrects += torch.sum(preds == labels.data).item()\n",
    "\n",
    "                if phase == 'train' and hasattr(scheduler, 'batch_step'):\n",
    "                    scheduler.batch_step()\n",
    "            print()\n",
    "\n",
    "            epoch_loss = running_loss / len(dataloaders[phase].dataset)\n",
    "            epoch_acc = running_corrects / len(dataloaders[phase].dataset)\n",
    "            print(f'{phase} Loss: {epoch_loss:.4f} Acc: {epoch_acc:.4f}')\n",
    "            if phase == 'valid' and epoch_acc > best_acc:\n",
    "                best_acc = epoch_acc\n",
    "                best_loss = epoch_loss\n",
    "                best_model_wts = copy.deepcopy(model.state_dict())\n",
    "\n",
    "        print()\n",
    "\n",
    "    time_elapsed = time.time() - since\n",
    "    print('Training complete in {:.0f}m {:.0f}s'.format(\n",
    "        time_elapsed // 60, time_elapsed % 60))\n",
    "    print('Best val Loss: {:4f}, Best val Acc: {:4f}'.format(best_loss, best_acc))\n",
    "\n",
    "    if best_model_wts:\n",
    "        model.load_state_dict(best_model_wts)\n",
    "    return model, best_loss, best_acc"
   ]
  },
  {
   "cell_type": "code",
   "execution_count": 21,
   "metadata": {
    "code_folding": []
   },
   "outputs": [],
   "source": [
    "datasets = {\n",
    "    'train': torchvision.datasets.ImageFolder(root=str(data_path/'train'), transform=train_transform),\n",
    "    'valid': torchvision.datasets.ImageFolder(root=str(data_path/'valid'), transform=valid_transform_tta)\n",
    "}"
   ]
  },
  {
   "cell_type": "code",
   "execution_count": 22,
   "metadata": {},
   "outputs": [],
   "source": [
    "batch_size = 48\n",
    "num_workers = 4\n",
    "dataloaders = {\n",
    "    'train': torch.utils.data.DataLoader(datasets['train'], batch_size=batch_size,\n",
    "                                         shuffle=True, num_workers=num_workers),\n",
    "    'valid': torch.utils.data.DataLoader(datasets['valid'], batch_size=batch_size,\n",
    "                                         shuffle=False, num_workers=num_workers)\n",
    "}"
   ]
  },
  {
   "cell_type": "code",
   "execution_count": 23,
   "metadata": {
    "scrolled": false
   },
   "outputs": [],
   "source": [
    "# input_iter = iter(dataloaders['train'])\n",
    "# plot_inputs(3, 5, input_iter)"
   ]
  },
  {
   "cell_type": "code",
   "execution_count": 24,
   "metadata": {},
   "outputs": [],
   "source": [
    "# model = load_model(arch, 'resnet34-stage2.pth')\n",
    "# freeze(model[0])"
   ]
  },
  {
   "cell_type": "code",
   "execution_count": 26,
   "metadata": {},
   "outputs": [],
   "source": [
    "arch = models.resnet34"
   ]
  },
  {
   "cell_type": "code",
   "execution_count": 30,
   "metadata": {},
   "outputs": [],
   "source": [
    "epochs = 3\n",
    "lr_max = 3e-3\n",
    "weight_decay = 5e-2"
   ]
  },
  {
   "cell_type": "code",
   "execution_count": 31,
   "metadata": {},
   "outputs": [],
   "source": [
    "# optimizer = optim.SGD(model.parameters(), lr=0.1, momentum=0.9)\n",
    "# scheduler = CyclicLR(optimizer, base_lr=1e-3, max_lr=1e-1,\n",
    "#                      step_size=step_size, mode='triangular2', debug=False)\n",
    "# scheduler = optim.lr_scheduler.StepLR(optimizer, step_size=5, gamma=0.1)\n",
    "# scheduler = WarmRestartsLR(optimizer, lr_min=1e-4, lr_max=1e-2, T=50, T_mult=2)\n",
    "model = create_model(arch, device)\n",
    "optimizer = AdamW(filter(lambda p: p.requires_grad, model.parameters()),\n",
    "                  lr=0.01, betas=(0.9, 0.99), weight_decay=weight_decay)\n",
    "scheduler = OneCycleScheduler(optimizer, lr_max=lr_max,\n",
    "                              batches=len(dataloaders['train']), epochs=epochs, debug=False)\n",
    "criterion = nn.CrossEntropyLoss()"
   ]
  },
  {
   "cell_type": "code",
   "execution_count": 32,
   "metadata": {
    "scrolled": true
   },
   "outputs": [
    {
     "name": "stdout",
     "output_type": "stream",
     "text": [
      "Epoch 1/3\n",
      "----------\n",
      ".........................................................................................................................................\n",
      "train Loss: 3.1069 Acc: 0.3385\n",
      "..................\n",
      "valid Loss: 0.6397 Acc: 0.8778\n",
      "\n",
      "Epoch 2/3\n",
      "----------\n",
      ".........................................................................................................................................\n",
      "train Loss: 0.8014 Acc: 0.7908\n",
      "..................\n",
      "valid Loss: 0.3073 Acc: 0.9364\n",
      "\n",
      "Epoch 3/3\n",
      "----------\n",
      ".........................................................................................................................................\n",
      "train Loss: 0.5096 Acc: 0.8675\n",
      "..................\n",
      "valid Loss: 0.2626 Acc: 0.9499\n",
      "\n",
      "Training complete in 1m 33s\n",
      "Best val Loss: 0.262621, Best val Acc: 0.949878\n"
     ]
    }
   ],
   "source": [
    "model, best_loss, best_acc = train_loop(dataloaders, model, criterion, optimizer, scheduler,\n",
    "                                        epochs=epochs)"
   ]
  },
  {
   "cell_type": "code",
   "execution_count": 33,
   "metadata": {},
   "outputs": [],
   "source": [
    "save_model(model, 'resnet-stage1.pth')"
   ]
  },
  {
   "cell_type": "code",
   "execution_count": 34,
   "metadata": {},
   "outputs": [],
   "source": [
    "# Fine-tuning"
   ]
  },
  {
   "cell_type": "code",
   "execution_count": 35,
   "metadata": {},
   "outputs": [],
   "source": [
    "batch_size = 64\n",
    "num_workers = 4\n",
    "dataloaders = {\n",
    "    'train': torch.utils.data.DataLoader(datasets['train'], batch_size=batch_size,\n",
    "                                         shuffle=True, num_workers=num_workers),\n",
    "    'valid': torch.utils.data.DataLoader(datasets['valid'], batch_size=batch_size,\n",
    "                                         shuffle=False, num_workers=num_workers)\n",
    "}"
   ]
  },
  {
   "cell_type": "code",
   "execution_count": 36,
   "metadata": {},
   "outputs": [],
   "source": [
    "epochs = 5\n",
    "weight_decay = 2e-4\n",
    "lr_max = 7e-5"
   ]
  },
  {
   "cell_type": "code",
   "execution_count": 38,
   "metadata": {},
   "outputs": [],
   "source": [
    "model = load_model(arch, device, 'resnet-stage1.pth')\n",
    "unfreeze(model)\n",
    "optimizer = AdamW(filter(lambda p: p.requires_grad, model.parameters()),\n",
    "                  lr=0.01, betas=(0.9, 0.99), weight_decay=weight_decay)\n",
    "scheduler = OneCycleScheduler(optimizer, lr_max=lr_max,\n",
    "                              batches=len(dataloaders['train']), epochs=epochs, debug=False)\n",
    "criterion = nn.CrossEntropyLoss()"
   ]
  },
  {
   "cell_type": "code",
   "execution_count": 39,
   "metadata": {
    "scrolled": true
   },
   "outputs": [
    {
     "name": "stdout",
     "output_type": "stream",
     "text": [
      "Epoch 1/5\n",
      "----------\n",
      ".......................................................................................................\n",
      "train Loss: 0.3996 Acc: 0.8985\n",
      ".............\n",
      "valid Loss: 0.1891 Acc: 0.9621\n",
      "\n",
      "Epoch 2/5\n",
      "----------\n",
      ".......................................................................................................\n",
      "train Loss: 0.2487 Acc: 0.9380\n",
      ".............\n",
      "valid Loss: 0.1565 Acc: 0.9633\n",
      "\n",
      "Epoch 3/5\n",
      "----------\n",
      ".......................................................................................................\n",
      "train Loss: 0.1679 Acc: 0.9582\n",
      ".............\n",
      "valid Loss: 0.1141 Acc: 0.9817\n",
      "\n",
      "Epoch 4/5\n",
      "----------\n",
      ".......................................................................................................\n",
      "train Loss: 0.1239 Acc: 0.9722\n",
      ".............\n",
      "valid Loss: 0.0942 Acc: 0.9853\n",
      "\n",
      "Epoch 5/5\n",
      "----------\n",
      ".......................................................................................................\n",
      "train Loss: 0.0929 Acc: 0.9818\n",
      ".............\n",
      "valid Loss: 0.0908 Acc: 0.9890\n",
      "\n",
      "Training complete in 2m 21s\n",
      "Best val Loss: 0.090757, Best val Acc: 0.988998\n"
     ]
    }
   ],
   "source": [
    "model, best_loss, best_acc = train_loop(dataloaders, model, criterion, optimizer, scheduler,\n",
    "                                        epochs=epochs)"
   ]
  },
  {
   "cell_type": "code",
   "execution_count": 40,
   "metadata": {},
   "outputs": [],
   "source": [
    "save_model(model, 'resnet-stage2.pth', class_to_idx=datasets['train'].class_to_idx)"
   ]
  },
  {
   "cell_type": "code",
   "execution_count": null,
   "metadata": {},
   "outputs": [],
   "source": [
    "# \"Polishing\" with simple augs"
   ]
  },
  {
   "cell_type": "code",
   "execution_count": 34,
   "metadata": {},
   "outputs": [],
   "source": [
    "datasets = {\n",
    "    'train': torchvision.datasets.ImageFolder(root=str(data_path/'train'), transform=train_transform_basic),\n",
    "    'valid': torchvision.datasets.ImageFolder(root=str(data_path/'valid'), transform=valid_transform_tta)\n",
    "}\n",
    "batch_size = 64\n",
    "num_workers = 4\n",
    "dataloaders = {\n",
    "    'train': torch.utils.data.DataLoader(datasets['train'], batch_size=batch_size,\n",
    "                                         shuffle=True, num_workers=num_workers),\n",
    "    'valid': torch.utils.data.DataLoader(datasets['valid'], batch_size=batch_size,\n",
    "                                         shuffle=False, num_workers=num_workers)\n",
    "}"
   ]
  },
  {
   "cell_type": "code",
   "execution_count": 35,
   "metadata": {},
   "outputs": [],
   "source": [
    "epochs = 15\n",
    "weight_decay = 1e-3\n",
    "lr_max = 1e-5"
   ]
  },
  {
   "cell_type": "code",
   "execution_count": 36,
   "metadata": {},
   "outputs": [],
   "source": [
    "model = load_model(models.resnet101, 'resnet-stage2.pth')\n",
    "unfreeze(model)\n",
    "# optimizer = AdamW(filter(lambda p: p.requires_grad, model.parameters()),\n",
    "#                   lr=0.01, betas=(0.9, 0.99), weight_decay=weight_decay)\n",
    "optimizer = optim.SGD(model.parameters(), lr=lr_max, momentum=0.9, weight_decay=weight_decay)\n",
    "scheduler = optim.lr_scheduler.StepLR(optimizer, step_size=5, gamma=0.3)\n",
    "# scheduler = OneCycleScheduler(optimizer, lr_max=lr_max,\n",
    "#                               batches=len(dataloaders['train']), epochs=epochs, debug=False)\n",
    "criterion = nn.CrossEntropyLoss()"
   ]
  },
  {
   "cell_type": "code",
   "execution_count": 37,
   "metadata": {},
   "outputs": [
    {
     "name": "stdout",
     "output_type": "stream",
     "text": [
      "Epoch 1/15\n",
      "----------\n",
      ".......................................................................................................\n",
      "train Loss: 0.0071 Acc: 0.9988\n",
      ".............\n",
      "valid Loss: 0.0534 Acc: 0.9914\n",
      "\n",
      "Epoch 2/15\n",
      "----------\n",
      ".......................................................................................................\n",
      "train Loss: 0.0075 Acc: 0.9980\n",
      ".............\n",
      "valid Loss: 0.0566 Acc: 0.9890\n",
      "\n",
      "Epoch 3/15\n",
      "----------\n",
      ".......................................................................................................\n",
      "train Loss: 0.0084 Acc: 0.9979\n",
      ".............\n",
      "valid Loss: 0.0572 Acc: 0.9890\n",
      "\n",
      "Epoch 4/15\n",
      "----------\n",
      ".......................................................................................................\n",
      "train Loss: 0.0062 Acc: 0.9989\n",
      ".............\n",
      "valid Loss: 0.0549 Acc: 0.9914\n",
      "\n",
      "Epoch 5/15\n",
      "----------\n",
      ".......................................................................................................\n",
      "train Loss: 0.0070 Acc: 0.9986\n",
      ".............\n",
      "valid Loss: 0.0555 Acc: 0.9902\n",
      "\n",
      "Epoch 6/15\n",
      "----------\n",
      ".......................................................................................................\n",
      "train Loss: 0.0058 Acc: 0.9992\n",
      ".............\n",
      "valid Loss: 0.0541 Acc: 0.9914\n",
      "\n",
      "Epoch 7/15\n",
      "----------\n",
      ".......................................................................................................\n",
      "train Loss: 0.0090 Acc: 0.9983\n",
      ".............\n",
      "valid Loss: 0.0535 Acc: 0.9914\n",
      "\n",
      "Epoch 8/15\n",
      "----------\n",
      ".......................................................................................................\n",
      "train Loss: 0.0064 Acc: 0.9989\n",
      ".............\n",
      "valid Loss: 0.0561 Acc: 0.9902\n",
      "\n",
      "Epoch 9/15\n",
      "----------\n",
      ".......................................................................................................\n",
      "train Loss: 0.0065 Acc: 0.9986\n",
      ".............\n",
      "valid Loss: 0.0551 Acc: 0.9902\n",
      "\n",
      "Epoch 10/15\n",
      "----------\n",
      ".......................................................................................................\n",
      "train Loss: 0.0083 Acc: 0.9985\n",
      ".............\n",
      "valid Loss: 0.0567 Acc: 0.9914\n",
      "\n",
      "Epoch 11/15\n",
      "----------\n",
      ".......................................................................................................\n",
      "train Loss: 0.0063 Acc: 0.9991\n",
      ".............\n",
      "valid Loss: 0.0553 Acc: 0.9890\n",
      "\n",
      "Epoch 12/15\n",
      "----------\n",
      ".......................................................................................................\n",
      "train Loss: 0.0074 Acc: 0.9983\n",
      ".............\n",
      "valid Loss: 0.0550 Acc: 0.9914\n",
      "\n",
      "Epoch 13/15\n",
      "----------\n",
      ".......................................................................................................\n",
      "train Loss: 0.0074 Acc: 0.9991\n",
      ".............\n",
      "valid Loss: 0.0561 Acc: 0.9902\n",
      "\n",
      "Epoch 14/15\n",
      "----------\n",
      ".......................................................................................................\n",
      "train Loss: 0.0064 Acc: 0.9986\n",
      ".............\n",
      "valid Loss: 0.0554 Acc: 0.9902\n",
      "\n",
      "Epoch 15/15\n",
      "----------\n",
      ".......................................................................................................\n",
      "train Loss: 0.0059 Acc: 0.9989\n",
      ".............\n",
      "valid Loss: 0.0546 Acc: 0.9914\n",
      "\n",
      "Training complete in 12m 27s\n",
      "Best val Loss: 0.053407, Best val Acc: 0.991443\n"
     ]
    }
   ],
   "source": [
    "model, best_loss, best_acc = train_loop(dataloaders, model, criterion, optimizer, scheduler,\n",
    "                                        epochs=epochs)"
   ]
  },
  {
   "cell_type": "code",
   "execution_count": 57,
   "metadata": {},
   "outputs": [],
   "source": [
    "# Final Validation"
   ]
  },
  {
   "cell_type": "code",
   "execution_count": 52,
   "metadata": {},
   "outputs": [],
   "source": [
    "datasets = {\n",
    "    'valid': torchvision.datasets.ImageFolder(root=str(data_path/'valid'), transform=valid_transform)\n",
    "}\n",
    "batch_size = 64\n",
    "num_workers = 4\n",
    "dataloaders = {\n",
    "    'valid': torch.utils.data.DataLoader(datasets['valid'], batch_size=batch_size,\n",
    "                                         shuffle=False, num_workers=num_workers)\n",
    "}"
   ]
  },
  {
   "cell_type": "code",
   "execution_count": 56,
   "metadata": {},
   "outputs": [
    {
     "name": "stdout",
     "output_type": "stream",
     "text": [
      ".............\n",
      "Valid Loss: 0.0711 Acc: 0.9866\n"
     ]
    }
   ],
   "source": [
    "running_loss, running_corrects = 0.0, 0.0\n",
    "for inputs, labels in dataloaders['valid']:\n",
    "    print('.', end='')\n",
    "    inputs = inputs.to(device)\n",
    "    labels = labels.to(device)\n",
    "\n",
    "    optimizer.zero_grad()\n",
    "\n",
    "    with torch.set_grad_enabled(False):\n",
    "        if len(inputs.size()) > 4:\n",
    "            ns, ncrops, c, h, w = inputs.size()\n",
    "            outputs = model(inputs.view(-1, c, h, w))\n",
    "            outputs = outputs.view(ns, ncrops, -1).mean(1)\n",
    "            _, preds = torch.max(outputs, 1)\n",
    "        else:\n",
    "            outputs = model(inputs)\n",
    "            _, preds = torch.max(outputs, 1)\n",
    "        loss = criterion(outputs, labels)\n",
    "\n",
    "        running_loss += loss.item() * inputs.size(0)\n",
    "        running_corrects += torch.sum(preds == labels.data).item()\n",
    "\n",
    "epoch_loss = running_loss / len(dataloaders['valid'].dataset)\n",
    "epoch_acc = running_corrects / len(dataloaders['valid'].dataset)\n",
    "print(f'\\nValid Loss: {epoch_loss:.4f} Acc: {epoch_acc:.4f}')"
   ]
  },
  {
   "cell_type": "markdown",
   "metadata": {},
   "source": [
    "# Hyperopt Experiments"
   ]
  },
  {
   "cell_type": "code",
   "execution_count": 107,
   "metadata": {},
   "outputs": [],
   "source": [
    "import pickle\n",
    "import time\n",
    "import random\n",
    "from hyperopt import fmin, tpe, hp, STATUS_OK, STATUS_FAIL, Trials"
   ]
  },
  {
   "cell_type": "code",
   "execution_count": 108,
   "metadata": {
    "code_folding": []
   },
   "outputs": [],
   "source": [
    "datasets = {\n",
    "    'train': torchvision.datasets.ImageFolder(root=str(data_path/'train'), transform=train_transform),\n",
    "    'valid': torchvision.datasets.ImageFolder(root=str(data_path/'valid'), transform=valid_transform_tta)\n",
    "}\n",
    "\n",
    "def objective(params):\n",
    "    try:\n",
    "        print(params)\n",
    "        start = time.time()\n",
    "        batch_size = int(params['batch_size'])\n",
    "        dataloaders = {\n",
    "            'train': torch.utils.data.DataLoader(datasets['train'], batch_size=batch_size,\n",
    "                                                 shuffle=True, num_workers=4),\n",
    "            'valid': torch.utils.data.DataLoader(datasets['valid'], batch_size=batch_size,\n",
    "                                                 shuffle=False, num_workers=4)\n",
    "        }\n",
    "        epochs = 15\n",
    "#         model = create_model(params['arch'])\n",
    "        model = load_model(arch, 'resnet-stage1.pth')\n",
    "        unfreeze(model)\n",
    "        optimizer = AdamW(filter(lambda p: p.requires_grad, model.parameters()),\n",
    "                          lr=0.01, betas=(0.9, 0.99), weight_decay=params['weight_decay'])\n",
    "        scheduler = OneCycleScheduler(optimizer, lr_max=params['lr_max'],\n",
    "                                      batches=len(dataloaders['train']), epochs=epochs, debug=False)\n",
    "        criterion = nn.CrossEntropyLoss()\n",
    "        model, best_loss, best_acc = train_loop(dataloaders, model, criterion, optimizer, scheduler,\n",
    "                                                epochs=epochs)\n",
    "        res = {\n",
    "            'loss': best_loss,\n",
    "            'acc': best_acc,\n",
    "            'status': STATUS_OK,\n",
    "            'time': time.time() - start\n",
    "        }\n",
    "    except KeyboardInterrupt as e:\n",
    "        raise\n",
    "    except BaseException as e:\n",
    "        print(e)\n",
    "        res = {\n",
    "            'loss': 100,\n",
    "            'acc': 0,\n",
    "            'status': STATUS_FAIL,\n",
    "            'time': time.time() - start\n",
    "        }\n",
    "    finally:\n",
    "        if model:\n",
    "            model.to('cpu')\n",
    "        torch.cuda.empty_cache()\n",
    "        print(res)\n",
    "        params.update(res)\n",
    "        return params"
   ]
  },
  {
   "cell_type": "code",
   "execution_count": 110,
   "metadata": {},
   "outputs": [],
   "source": [
    "space = {\n",
    "    'batch_size': hp.choice('batch_size', np.arange(16, 256, 16, dtype=int)),\n",
    "    'lr_max': hp.loguniform('lr_max', np.log(1e-5), np.log(1e-2)),\n",
    "    'weight_decay': hp.loguniform('weight_decay', np.log(1e-6), np.log(1)),\n",
    "#     'arch': hp.choice('arch', [models.resnet34, models.resnet50, models.resnet101]),\n",
    "}"
   ]
  },
  {
   "cell_type": "code",
   "execution_count": 45,
   "metadata": {
    "scrolled": true
   },
   "outputs": [],
   "source": [
    "trials = Trials()\n",
    "best = fmin(objective,\n",
    "            space=space,\n",
    "            algo=tpe.suggest,\n",
    "            max_evals=50,\n",
    "            trials=trials)"
   ]
  },
  {
   "cell_type": "code",
   "execution_count": 112,
   "metadata": {},
   "outputs": [],
   "source": [
    "import pandas as pd\n",
    "trials_df = pd.DataFrame(trials.results)\n",
    "trials_df.to_csv('trials-stage2.csv', sep='\\t', index=False)"
   ]
  },
  {
   "cell_type": "code",
   "execution_count": 38,
   "metadata": {},
   "outputs": [],
   "source": [
    "# trials_df = pd.read_csv('trials-stage1.csv', sep='\\t')"
   ]
  },
  {
   "cell_type": "code",
   "execution_count": 44,
   "metadata": {},
   "outputs": [],
   "source": [
    "# trials_df.sort_values(by='status')"
   ]
  },
  {
   "cell_type": "code",
   "execution_count": 115,
   "metadata": {
    "scrolled": true
   },
   "outputs": [
    {
     "data": {
      "text/html": [
       "<div>\n",
       "<style scoped>\n",
       "    .dataframe tbody tr th:only-of-type {\n",
       "        vertical-align: middle;\n",
       "    }\n",
       "\n",
       "    .dataframe tbody tr th {\n",
       "        vertical-align: top;\n",
       "    }\n",
       "\n",
       "    .dataframe thead th {\n",
       "        text-align: right;\n",
       "    }\n",
       "</style>\n",
       "<table border=\"1\" class=\"dataframe\">\n",
       "  <thead>\n",
       "    <tr style=\"text-align: right;\">\n",
       "      <th></th>\n",
       "      <th>acc</th>\n",
       "      <th>batch_size</th>\n",
       "      <th>loss</th>\n",
       "      <th>lr_max</th>\n",
       "      <th>status</th>\n",
       "      <th>time</th>\n",
       "      <th>weight_decay</th>\n",
       "    </tr>\n",
       "  </thead>\n",
       "  <tbody>\n",
       "    <tr>\n",
       "      <th>21</th>\n",
       "      <td>0.995110</td>\n",
       "      <td>48</td>\n",
       "      <td>0.056657</td>\n",
       "      <td>0.000038</td>\n",
       "      <td>ok</td>\n",
       "      <td>804.644610</td>\n",
       "      <td>0.000001</td>\n",
       "    </tr>\n",
       "    <tr>\n",
       "      <th>41</th>\n",
       "      <td>0.995110</td>\n",
       "      <td>64</td>\n",
       "      <td>0.050929</td>\n",
       "      <td>0.000073</td>\n",
       "      <td>ok</td>\n",
       "      <td>785.925107</td>\n",
       "      <td>0.000272</td>\n",
       "    </tr>\n",
       "    <tr>\n",
       "      <th>26</th>\n",
       "      <td>0.993888</td>\n",
       "      <td>64</td>\n",
       "      <td>0.057410</td>\n",
       "      <td>0.000025</td>\n",
       "      <td>ok</td>\n",
       "      <td>783.253139</td>\n",
       "      <td>0.459626</td>\n",
       "    </tr>\n",
       "    <tr>\n",
       "      <th>23</th>\n",
       "      <td>0.992665</td>\n",
       "      <td>48</td>\n",
       "      <td>0.058264</td>\n",
       "      <td>0.000044</td>\n",
       "      <td>ok</td>\n",
       "      <td>803.678368</td>\n",
       "      <td>0.000044</td>\n",
       "    </tr>\n",
       "    <tr>\n",
       "      <th>40</th>\n",
       "      <td>0.992665</td>\n",
       "      <td>64</td>\n",
       "      <td>0.054839</td>\n",
       "      <td>0.000074</td>\n",
       "      <td>ok</td>\n",
       "      <td>785.247967</td>\n",
       "      <td>0.000212</td>\n",
       "    </tr>\n",
       "    <tr>\n",
       "      <th>36</th>\n",
       "      <td>0.992665</td>\n",
       "      <td>32</td>\n",
       "      <td>0.055512</td>\n",
       "      <td>0.000026</td>\n",
       "      <td>ok</td>\n",
       "      <td>853.277575</td>\n",
       "      <td>0.000018</td>\n",
       "    </tr>\n",
       "    <tr>\n",
       "      <th>31</th>\n",
       "      <td>0.991443</td>\n",
       "      <td>48</td>\n",
       "      <td>0.062161</td>\n",
       "      <td>0.000136</td>\n",
       "      <td>ok</td>\n",
       "      <td>803.593891</td>\n",
       "      <td>0.000194</td>\n",
       "    </tr>\n",
       "    <tr>\n",
       "      <th>24</th>\n",
       "      <td>0.991443</td>\n",
       "      <td>48</td>\n",
       "      <td>0.055415</td>\n",
       "      <td>0.000041</td>\n",
       "      <td>ok</td>\n",
       "      <td>807.265188</td>\n",
       "      <td>0.972279</td>\n",
       "    </tr>\n",
       "    <tr>\n",
       "      <th>44</th>\n",
       "      <td>0.990220</td>\n",
       "      <td>64</td>\n",
       "      <td>0.057395</td>\n",
       "      <td>0.000078</td>\n",
       "      <td>ok</td>\n",
       "      <td>785.528910</td>\n",
       "      <td>0.003478</td>\n",
       "    </tr>\n",
       "    <tr>\n",
       "      <th>30</th>\n",
       "      <td>0.988998</td>\n",
       "      <td>48</td>\n",
       "      <td>0.059515</td>\n",
       "      <td>0.000014</td>\n",
       "      <td>ok</td>\n",
       "      <td>803.917024</td>\n",
       "      <td>0.148601</td>\n",
       "    </tr>\n",
       "    <tr>\n",
       "      <th>35</th>\n",
       "      <td>0.988998</td>\n",
       "      <td>48</td>\n",
       "      <td>0.076942</td>\n",
       "      <td>0.000418</td>\n",
       "      <td>ok</td>\n",
       "      <td>803.142842</td>\n",
       "      <td>0.008809</td>\n",
       "    </tr>\n",
       "    <tr>\n",
       "      <th>42</th>\n",
       "      <td>0.988998</td>\n",
       "      <td>64</td>\n",
       "      <td>0.067474</td>\n",
       "      <td>0.000246</td>\n",
       "      <td>ok</td>\n",
       "      <td>783.014548</td>\n",
       "      <td>0.000315</td>\n",
       "    </tr>\n",
       "    <tr>\n",
       "      <th>11</th>\n",
       "      <td>0.988998</td>\n",
       "      <td>16</td>\n",
       "      <td>0.084892</td>\n",
       "      <td>0.000103</td>\n",
       "      <td>ok</td>\n",
       "      <td>995.561854</td>\n",
       "      <td>0.000007</td>\n",
       "    </tr>\n",
       "    <tr>\n",
       "      <th>37</th>\n",
       "      <td>0.987775</td>\n",
       "      <td>32</td>\n",
       "      <td>0.055611</td>\n",
       "      <td>0.000018</td>\n",
       "      <td>ok</td>\n",
       "      <td>855.304644</td>\n",
       "      <td>0.000061</td>\n",
       "    </tr>\n",
       "    <tr>\n",
       "      <th>22</th>\n",
       "      <td>0.987775</td>\n",
       "      <td>48</td>\n",
       "      <td>0.065198</td>\n",
       "      <td>0.000044</td>\n",
       "      <td>ok</td>\n",
       "      <td>804.524059</td>\n",
       "      <td>0.000023</td>\n",
       "    </tr>\n",
       "    <tr>\n",
       "      <th>39</th>\n",
       "      <td>0.987775</td>\n",
       "      <td>32</td>\n",
       "      <td>0.064593</td>\n",
       "      <td>0.000162</td>\n",
       "      <td>ok</td>\n",
       "      <td>854.470828</td>\n",
       "      <td>0.000016</td>\n",
       "    </tr>\n",
       "    <tr>\n",
       "      <th>48</th>\n",
       "      <td>0.987775</td>\n",
       "      <td>16</td>\n",
       "      <td>0.074814</td>\n",
       "      <td>0.000221</td>\n",
       "      <td>ok</td>\n",
       "      <td>995.380198</td>\n",
       "      <td>0.004952</td>\n",
       "    </tr>\n",
       "    <tr>\n",
       "      <th>43</th>\n",
       "      <td>0.986553</td>\n",
       "      <td>64</td>\n",
       "      <td>0.094182</td>\n",
       "      <td>0.000597</td>\n",
       "      <td>ok</td>\n",
       "      <td>782.951058</td>\n",
       "      <td>0.000977</td>\n",
       "    </tr>\n",
       "    <tr>\n",
       "      <th>45</th>\n",
       "      <td>0.986553</td>\n",
       "      <td>64</td>\n",
       "      <td>0.065511</td>\n",
       "      <td>0.000119</td>\n",
       "      <td>ok</td>\n",
       "      <td>784.878294</td>\n",
       "      <td>0.000119</td>\n",
       "    </tr>\n",
       "    <tr>\n",
       "      <th>25</th>\n",
       "      <td>0.986553</td>\n",
       "      <td>32</td>\n",
       "      <td>0.079202</td>\n",
       "      <td>0.000363</td>\n",
       "      <td>ok</td>\n",
       "      <td>854.213687</td>\n",
       "      <td>0.900786</td>\n",
       "    </tr>\n",
       "    <tr>\n",
       "      <th>38</th>\n",
       "      <td>0.985330</td>\n",
       "      <td>32</td>\n",
       "      <td>0.095480</td>\n",
       "      <td>0.000822</td>\n",
       "      <td>ok</td>\n",
       "      <td>854.505060</td>\n",
       "      <td>0.000003</td>\n",
       "    </tr>\n",
       "    <tr>\n",
       "      <th>6</th>\n",
       "      <td>0.977995</td>\n",
       "      <td>48</td>\n",
       "      <td>0.126334</td>\n",
       "      <td>0.003020</td>\n",
       "      <td>ok</td>\n",
       "      <td>804.406476</td>\n",
       "      <td>0.000001</td>\n",
       "    </tr>\n",
       "    <tr>\n",
       "      <th>7</th>\n",
       "      <td>0.834963</td>\n",
       "      <td>16</td>\n",
       "      <td>0.633972</td>\n",
       "      <td>0.008461</td>\n",
       "      <td>ok</td>\n",
       "      <td>992.794618</td>\n",
       "      <td>0.012741</td>\n",
       "    </tr>\n",
       "    <tr>\n",
       "      <th>29</th>\n",
       "      <td>0.000000</td>\n",
       "      <td>240</td>\n",
       "      <td>100.000000</td>\n",
       "      <td>0.000068</td>\n",
       "      <td>fail</td>\n",
       "      <td>7.866671</td>\n",
       "      <td>0.000604</td>\n",
       "    </tr>\n",
       "    <tr>\n",
       "      <th>34</th>\n",
       "      <td>0.000000</td>\n",
       "      <td>208</td>\n",
       "      <td>100.000000</td>\n",
       "      <td>0.000070</td>\n",
       "      <td>fail</td>\n",
       "      <td>7.131501</td>\n",
       "      <td>0.716590</td>\n",
       "    </tr>\n",
       "    <tr>\n",
       "      <th>33</th>\n",
       "      <td>0.000000</td>\n",
       "      <td>176</td>\n",
       "      <td>100.000000</td>\n",
       "      <td>0.000010</td>\n",
       "      <td>fail</td>\n",
       "      <td>6.850298</td>\n",
       "      <td>0.000003</td>\n",
       "    </tr>\n",
       "    <tr>\n",
       "      <th>46</th>\n",
       "      <td>0.000000</td>\n",
       "      <td>80</td>\n",
       "      <td>100.000000</td>\n",
       "      <td>0.001228</td>\n",
       "      <td>fail</td>\n",
       "      <td>43.893693</td>\n",
       "      <td>0.000242</td>\n",
       "    </tr>\n",
       "    <tr>\n",
       "      <th>32</th>\n",
       "      <td>0.000000</td>\n",
       "      <td>128</td>\n",
       "      <td>100.000000</td>\n",
       "      <td>0.000191</td>\n",
       "      <td>fail</td>\n",
       "      <td>5.403538</td>\n",
       "      <td>0.001101</td>\n",
       "    </tr>\n",
       "    <tr>\n",
       "      <th>47</th>\n",
       "      <td>0.000000</td>\n",
       "      <td>64</td>\n",
       "      <td>100.000000</td>\n",
       "      <td>0.001651</td>\n",
       "      <td>fail</td>\n",
       "      <td>44.035583</td>\n",
       "      <td>0.000058</td>\n",
       "    </tr>\n",
       "    <tr>\n",
       "      <th>0</th>\n",
       "      <td>0.000000</td>\n",
       "      <td>240</td>\n",
       "      <td>100.000000</td>\n",
       "      <td>0.001122</td>\n",
       "      <td>fail</td>\n",
       "      <td>7.783724</td>\n",
       "      <td>0.034320</td>\n",
       "    </tr>\n",
       "    <tr>\n",
       "      <th>28</th>\n",
       "      <td>0.000000</td>\n",
       "      <td>208</td>\n",
       "      <td>100.000000</td>\n",
       "      <td>0.000050</td>\n",
       "      <td>fail</td>\n",
       "      <td>7.902718</td>\n",
       "      <td>0.008249</td>\n",
       "    </tr>\n",
       "    <tr>\n",
       "      <th>27</th>\n",
       "      <td>0.000000</td>\n",
       "      <td>112</td>\n",
       "      <td>100.000000</td>\n",
       "      <td>0.000554</td>\n",
       "      <td>fail</td>\n",
       "      <td>5.101038</td>\n",
       "      <td>0.362556</td>\n",
       "    </tr>\n",
       "    <tr>\n",
       "      <th>2</th>\n",
       "      <td>0.000000</td>\n",
       "      <td>80</td>\n",
       "      <td>100.000000</td>\n",
       "      <td>0.000152</td>\n",
       "      <td>fail</td>\n",
       "      <td>43.764013</td>\n",
       "      <td>0.000003</td>\n",
       "    </tr>\n",
       "    <tr>\n",
       "      <th>3</th>\n",
       "      <td>0.000000</td>\n",
       "      <td>128</td>\n",
       "      <td>100.000000</td>\n",
       "      <td>0.003554</td>\n",
       "      <td>fail</td>\n",
       "      <td>5.278311</td>\n",
       "      <td>0.000006</td>\n",
       "    </tr>\n",
       "    <tr>\n",
       "      <th>4</th>\n",
       "      <td>0.000000</td>\n",
       "      <td>192</td>\n",
       "      <td>100.000000</td>\n",
       "      <td>0.000010</td>\n",
       "      <td>fail</td>\n",
       "      <td>6.627046</td>\n",
       "      <td>0.002517</td>\n",
       "    </tr>\n",
       "    <tr>\n",
       "      <th>5</th>\n",
       "      <td>0.000000</td>\n",
       "      <td>176</td>\n",
       "      <td>100.000000</td>\n",
       "      <td>0.001376</td>\n",
       "      <td>fail</td>\n",
       "      <td>6.419624</td>\n",
       "      <td>0.000096</td>\n",
       "    </tr>\n",
       "    <tr>\n",
       "      <th>8</th>\n",
       "      <td>0.000000</td>\n",
       "      <td>224</td>\n",
       "      <td>100.000000</td>\n",
       "      <td>0.001027</td>\n",
       "      <td>fail</td>\n",
       "      <td>7.632890</td>\n",
       "      <td>0.000129</td>\n",
       "    </tr>\n",
       "    <tr>\n",
       "      <th>9</th>\n",
       "      <td>0.000000</td>\n",
       "      <td>160</td>\n",
       "      <td>100.000000</td>\n",
       "      <td>0.008257</td>\n",
       "      <td>fail</td>\n",
       "      <td>6.762618</td>\n",
       "      <td>0.002875</td>\n",
       "    </tr>\n",
       "    <tr>\n",
       "      <th>10</th>\n",
       "      <td>0.000000</td>\n",
       "      <td>160</td>\n",
       "      <td>100.000000</td>\n",
       "      <td>0.006028</td>\n",
       "      <td>fail</td>\n",
       "      <td>6.529726</td>\n",
       "      <td>0.000007</td>\n",
       "    </tr>\n",
       "    <tr>\n",
       "      <th>12</th>\n",
       "      <td>0.000000</td>\n",
       "      <td>144</td>\n",
       "      <td>100.000000</td>\n",
       "      <td>0.002154</td>\n",
       "      <td>fail</td>\n",
       "      <td>6.290627</td>\n",
       "      <td>0.032825</td>\n",
       "    </tr>\n",
       "    <tr>\n",
       "      <th>13</th>\n",
       "      <td>0.000000</td>\n",
       "      <td>80</td>\n",
       "      <td>100.000000</td>\n",
       "      <td>0.002671</td>\n",
       "      <td>fail</td>\n",
       "      <td>43.701720</td>\n",
       "      <td>0.000378</td>\n",
       "    </tr>\n",
       "    <tr>\n",
       "      <th>14</th>\n",
       "      <td>0.000000</td>\n",
       "      <td>224</td>\n",
       "      <td>100.000000</td>\n",
       "      <td>0.000020</td>\n",
       "      <td>fail</td>\n",
       "      <td>7.364373</td>\n",
       "      <td>0.036031</td>\n",
       "    </tr>\n",
       "    <tr>\n",
       "      <th>15</th>\n",
       "      <td>0.000000</td>\n",
       "      <td>224</td>\n",
       "      <td>100.000000</td>\n",
       "      <td>0.000101</td>\n",
       "      <td>fail</td>\n",
       "      <td>8.485760</td>\n",
       "      <td>0.000001</td>\n",
       "    </tr>\n",
       "    <tr>\n",
       "      <th>16</th>\n",
       "      <td>0.000000</td>\n",
       "      <td>192</td>\n",
       "      <td>100.000000</td>\n",
       "      <td>0.004112</td>\n",
       "      <td>fail</td>\n",
       "      <td>7.348812</td>\n",
       "      <td>0.131728</td>\n",
       "    </tr>\n",
       "    <tr>\n",
       "      <th>17</th>\n",
       "      <td>0.000000</td>\n",
       "      <td>144</td>\n",
       "      <td>100.000000</td>\n",
       "      <td>0.000247</td>\n",
       "      <td>fail</td>\n",
       "      <td>5.717525</td>\n",
       "      <td>0.056678</td>\n",
       "    </tr>\n",
       "    <tr>\n",
       "      <th>18</th>\n",
       "      <td>0.000000</td>\n",
       "      <td>224</td>\n",
       "      <td>100.000000</td>\n",
       "      <td>0.000014</td>\n",
       "      <td>fail</td>\n",
       "      <td>7.456245</td>\n",
       "      <td>0.031626</td>\n",
       "    </tr>\n",
       "    <tr>\n",
       "      <th>19</th>\n",
       "      <td>0.000000</td>\n",
       "      <td>192</td>\n",
       "      <td>100.000000</td>\n",
       "      <td>0.007551</td>\n",
       "      <td>fail</td>\n",
       "      <td>7.672545</td>\n",
       "      <td>0.002126</td>\n",
       "    </tr>\n",
       "    <tr>\n",
       "      <th>20</th>\n",
       "      <td>0.000000</td>\n",
       "      <td>96</td>\n",
       "      <td>100.000000</td>\n",
       "      <td>0.000030</td>\n",
       "      <td>fail</td>\n",
       "      <td>42.985958</td>\n",
       "      <td>0.000022</td>\n",
       "    </tr>\n",
       "    <tr>\n",
       "      <th>1</th>\n",
       "      <td>0.000000</td>\n",
       "      <td>192</td>\n",
       "      <td>100.000000</td>\n",
       "      <td>0.000097</td>\n",
       "      <td>fail</td>\n",
       "      <td>7.043807</td>\n",
       "      <td>0.000436</td>\n",
       "    </tr>\n",
       "    <tr>\n",
       "      <th>49</th>\n",
       "      <td>0.000000</td>\n",
       "      <td>160</td>\n",
       "      <td>100.000000</td>\n",
       "      <td>0.000061</td>\n",
       "      <td>fail</td>\n",
       "      <td>6.613679</td>\n",
       "      <td>0.001203</td>\n",
       "    </tr>\n",
       "  </tbody>\n",
       "</table>\n",
       "</div>"
      ],
      "text/plain": [
       "         acc  batch_size        loss    lr_max status        time  \\\n",
       "21  0.995110          48    0.056657  0.000038     ok  804.644610   \n",
       "41  0.995110          64    0.050929  0.000073     ok  785.925107   \n",
       "26  0.993888          64    0.057410  0.000025     ok  783.253139   \n",
       "23  0.992665          48    0.058264  0.000044     ok  803.678368   \n",
       "40  0.992665          64    0.054839  0.000074     ok  785.247967   \n",
       "36  0.992665          32    0.055512  0.000026     ok  853.277575   \n",
       "31  0.991443          48    0.062161  0.000136     ok  803.593891   \n",
       "24  0.991443          48    0.055415  0.000041     ok  807.265188   \n",
       "44  0.990220          64    0.057395  0.000078     ok  785.528910   \n",
       "30  0.988998          48    0.059515  0.000014     ok  803.917024   \n",
       "35  0.988998          48    0.076942  0.000418     ok  803.142842   \n",
       "42  0.988998          64    0.067474  0.000246     ok  783.014548   \n",
       "11  0.988998          16    0.084892  0.000103     ok  995.561854   \n",
       "37  0.987775          32    0.055611  0.000018     ok  855.304644   \n",
       "22  0.987775          48    0.065198  0.000044     ok  804.524059   \n",
       "39  0.987775          32    0.064593  0.000162     ok  854.470828   \n",
       "48  0.987775          16    0.074814  0.000221     ok  995.380198   \n",
       "43  0.986553          64    0.094182  0.000597     ok  782.951058   \n",
       "45  0.986553          64    0.065511  0.000119     ok  784.878294   \n",
       "25  0.986553          32    0.079202  0.000363     ok  854.213687   \n",
       "38  0.985330          32    0.095480  0.000822     ok  854.505060   \n",
       "6   0.977995          48    0.126334  0.003020     ok  804.406476   \n",
       "7   0.834963          16    0.633972  0.008461     ok  992.794618   \n",
       "29  0.000000         240  100.000000  0.000068   fail    7.866671   \n",
       "34  0.000000         208  100.000000  0.000070   fail    7.131501   \n",
       "33  0.000000         176  100.000000  0.000010   fail    6.850298   \n",
       "46  0.000000          80  100.000000  0.001228   fail   43.893693   \n",
       "32  0.000000         128  100.000000  0.000191   fail    5.403538   \n",
       "47  0.000000          64  100.000000  0.001651   fail   44.035583   \n",
       "0   0.000000         240  100.000000  0.001122   fail    7.783724   \n",
       "28  0.000000         208  100.000000  0.000050   fail    7.902718   \n",
       "27  0.000000         112  100.000000  0.000554   fail    5.101038   \n",
       "2   0.000000          80  100.000000  0.000152   fail   43.764013   \n",
       "3   0.000000         128  100.000000  0.003554   fail    5.278311   \n",
       "4   0.000000         192  100.000000  0.000010   fail    6.627046   \n",
       "5   0.000000         176  100.000000  0.001376   fail    6.419624   \n",
       "8   0.000000         224  100.000000  0.001027   fail    7.632890   \n",
       "9   0.000000         160  100.000000  0.008257   fail    6.762618   \n",
       "10  0.000000         160  100.000000  0.006028   fail    6.529726   \n",
       "12  0.000000         144  100.000000  0.002154   fail    6.290627   \n",
       "13  0.000000          80  100.000000  0.002671   fail   43.701720   \n",
       "14  0.000000         224  100.000000  0.000020   fail    7.364373   \n",
       "15  0.000000         224  100.000000  0.000101   fail    8.485760   \n",
       "16  0.000000         192  100.000000  0.004112   fail    7.348812   \n",
       "17  0.000000         144  100.000000  0.000247   fail    5.717525   \n",
       "18  0.000000         224  100.000000  0.000014   fail    7.456245   \n",
       "19  0.000000         192  100.000000  0.007551   fail    7.672545   \n",
       "20  0.000000          96  100.000000  0.000030   fail   42.985958   \n",
       "1   0.000000         192  100.000000  0.000097   fail    7.043807   \n",
       "49  0.000000         160  100.000000  0.000061   fail    6.613679   \n",
       "\n",
       "    weight_decay  \n",
       "21      0.000001  \n",
       "41      0.000272  \n",
       "26      0.459626  \n",
       "23      0.000044  \n",
       "40      0.000212  \n",
       "36      0.000018  \n",
       "31      0.000194  \n",
       "24      0.972279  \n",
       "44      0.003478  \n",
       "30      0.148601  \n",
       "35      0.008809  \n",
       "42      0.000315  \n",
       "11      0.000007  \n",
       "37      0.000061  \n",
       "22      0.000023  \n",
       "39      0.000016  \n",
       "48      0.004952  \n",
       "43      0.000977  \n",
       "45      0.000119  \n",
       "25      0.900786  \n",
       "38      0.000003  \n",
       "6       0.000001  \n",
       "7       0.012741  \n",
       "29      0.000604  \n",
       "34      0.716590  \n",
       "33      0.000003  \n",
       "46      0.000242  \n",
       "32      0.001101  \n",
       "47      0.000058  \n",
       "0       0.034320  \n",
       "28      0.008249  \n",
       "27      0.362556  \n",
       "2       0.000003  \n",
       "3       0.000006  \n",
       "4       0.002517  \n",
       "5       0.000096  \n",
       "8       0.000129  \n",
       "9       0.002875  \n",
       "10      0.000007  \n",
       "12      0.032825  \n",
       "13      0.000378  \n",
       "14      0.036031  \n",
       "15      0.000001  \n",
       "16      0.131728  \n",
       "17      0.056678  \n",
       "18      0.031626  \n",
       "19      0.002126  \n",
       "20      0.000022  \n",
       "1       0.000436  \n",
       "49      0.001203  "
      ]
     },
     "execution_count": 115,
     "metadata": {},
     "output_type": "execute_result"
    }
   ],
   "source": [
    "trials_df.sort_values(by='acc', ascending=False)"
   ]
  },
  {
   "cell_type": "code",
   "execution_count": 116,
   "metadata": {},
   "outputs": [],
   "source": [
    "# trials_df['arch_name'] = trials_df.arch.map(lambda a: a.__name__)\n",
    "# trials_df.to_csv('trials.csv', sep='\\t', index=False)"
   ]
  },
  {
   "cell_type": "code",
   "execution_count": 122,
   "metadata": {},
   "outputs": [
    {
     "data": {
      "text/plain": [
       "'0.9.0'"
      ]
     },
     "execution_count": 122,
     "metadata": {},
     "output_type": "execute_result"
    }
   ],
   "source": [
    "import seaborn as sns\n",
    "sns.set(style=\"whitegrid\")\n",
    "sns.__version__"
   ]
  },
  {
   "cell_type": "code",
   "execution_count": 132,
   "metadata": {},
   "outputs": [],
   "source": [
    "df = trials_df[trials_df.acc > 0.85]"
   ]
  },
  {
   "cell_type": "code",
   "execution_count": 133,
   "metadata": {},
   "outputs": [
    {
     "data": {
      "text/plain": [
       "<matplotlib.collections.PathCollection at 0x7f7bf0bac048>"
      ]
     },
     "execution_count": 133,
     "metadata": {},
     "output_type": "execute_result"
    },
    {
     "data": {
      "image/png": "[encoded data removed]",
      "text/plain": [
       "<Figure size 432x288 with 1 Axes>"
      ]
     },
     "metadata": {},
     "output_type": "display_data"
    }
   ],
   "source": [
    "plt.scatter(1 - df.loss.values, df.acc.values)"
   ]
  },
  {
   "cell_type": "code",
   "execution_count": 134,
   "metadata": {},
   "outputs": [
    {
     "data": {
      "image/png": "[encoded data removed]",
      "text/plain": [
       "<Figure size 432x288 with 1 Axes>"
      ]
     },
     "metadata": {},
     "output_type": "display_data"
    }
   ],
   "source": [
    "fig, ax = plt.subplots()\n",
    "data = [trials_df[trials_df.status == 'fail'].batch_size.values,\n",
    "        trials_df[trials_df.status == 'ok'].batch_size.values]\n",
    "ax.boxplot(data);"
   ]
  },
  {
   "cell_type": "code",
   "execution_count": 136,
   "metadata": {},
   "outputs": [
    {
     "data": {
      "text/plain": [
       "<matplotlib.collections.PathCollection at 0x7f7bf0aa5710>"
      ]
     },
     "execution_count": 136,
     "metadata": {},
     "output_type": "execute_result"
    },
    {
     "data": {
      "image/png": "[encoded data removed]",
      "text/plain": [
       "<Figure size 432x288 with 1 Axes>"
      ]
     },
     "metadata": {},
     "output_type": "display_data"
    }
   ],
   "source": [
    "fig, ax = plt.subplots()\n",
    "df = trials_df\n",
    "df = df[(df.status == 'ok')&(df.batch_size < 100)&(df.batch_size > 20)]\n",
    "ax.scatter(df.batch_size.values, df.acc.values)"
   ]
  },
  {
   "cell_type": "code",
   "execution_count": 204,
   "metadata": {},
   "outputs": [],
   "source": [
    "df = trials_df.copy()\n",
    "df['arch_name'] = df.arch.map(lambda a: a.__name__)"
   ]
  },
  {
   "cell_type": "code",
   "execution_count": 217,
   "metadata": {},
   "outputs": [
    {
     "data": {
      "image/png": "[encoded data removed]",
      "text/plain": [
       "<Figure size 432x288 with 1 Axes>"
      ]
     },
     "metadata": {},
     "output_type": "display_data"
    }
   ],
   "source": [
    "df = df[df.acc > 0.8]\n",
    "ax = sns.boxplot(x=df.arch_name, y=df.acc)"
   ]
  },
  {
   "cell_type": "code",
   "execution_count": 144,
   "metadata": {},
   "outputs": [
    {
     "data": {
      "text/html": [
       "<div>\n",
       "<style scoped>\n",
       "    .dataframe tbody tr th:only-of-type {\n",
       "        vertical-align: middle;\n",
       "    }\n",
       "\n",
       "    .dataframe tbody tr th {\n",
       "        vertical-align: top;\n",
       "    }\n",
       "\n",
       "    .dataframe thead th {\n",
       "        text-align: right;\n",
       "    }\n",
       "</style>\n",
       "<table border=\"1\" class=\"dataframe\">\n",
       "  <thead>\n",
       "    <tr style=\"text-align: right;\">\n",
       "      <th></th>\n",
       "      <th>acc</th>\n",
       "      <th>batch_size</th>\n",
       "      <th>loss</th>\n",
       "      <th>lr_max</th>\n",
       "      <th>status</th>\n",
       "      <th>time</th>\n",
       "      <th>weight_decay</th>\n",
       "      <th>acc_loss</th>\n",
       "    </tr>\n",
       "  </thead>\n",
       "  <tbody>\n",
       "    <tr>\n",
       "      <th>41</th>\n",
       "      <td>0.995110</td>\n",
       "      <td>64</td>\n",
       "      <td>0.050929</td>\n",
       "      <td>0.000073</td>\n",
       "      <td>ok</td>\n",
       "      <td>785.925107</td>\n",
       "      <td>0.000272</td>\n",
       "      <td>0.944430</td>\n",
       "    </tr>\n",
       "    <tr>\n",
       "      <th>21</th>\n",
       "      <td>0.995110</td>\n",
       "      <td>48</td>\n",
       "      <td>0.056657</td>\n",
       "      <td>0.000038</td>\n",
       "      <td>ok</td>\n",
       "      <td>804.644610</td>\n",
       "      <td>0.000001</td>\n",
       "      <td>0.938730</td>\n",
       "    </tr>\n",
       "    <tr>\n",
       "      <th>40</th>\n",
       "      <td>0.992665</td>\n",
       "      <td>64</td>\n",
       "      <td>0.054839</td>\n",
       "      <td>0.000074</td>\n",
       "      <td>ok</td>\n",
       "      <td>785.247967</td>\n",
       "      <td>0.000212</td>\n",
       "      <td>0.938229</td>\n",
       "    </tr>\n",
       "    <tr>\n",
       "      <th>36</th>\n",
       "      <td>0.992665</td>\n",
       "      <td>32</td>\n",
       "      <td>0.055512</td>\n",
       "      <td>0.000026</td>\n",
       "      <td>ok</td>\n",
       "      <td>853.277575</td>\n",
       "      <td>0.000018</td>\n",
       "      <td>0.937560</td>\n",
       "    </tr>\n",
       "    <tr>\n",
       "      <th>26</th>\n",
       "      <td>0.993888</td>\n",
       "      <td>64</td>\n",
       "      <td>0.057410</td>\n",
       "      <td>0.000025</td>\n",
       "      <td>ok</td>\n",
       "      <td>783.253139</td>\n",
       "      <td>0.459626</td>\n",
       "      <td>0.936829</td>\n",
       "    </tr>\n",
       "    <tr>\n",
       "      <th>24</th>\n",
       "      <td>0.991443</td>\n",
       "      <td>48</td>\n",
       "      <td>0.055415</td>\n",
       "      <td>0.000041</td>\n",
       "      <td>ok</td>\n",
       "      <td>807.265188</td>\n",
       "      <td>0.972279</td>\n",
       "      <td>0.936502</td>\n",
       "    </tr>\n",
       "    <tr>\n",
       "      <th>23</th>\n",
       "      <td>0.992665</td>\n",
       "      <td>48</td>\n",
       "      <td>0.058264</td>\n",
       "      <td>0.000044</td>\n",
       "      <td>ok</td>\n",
       "      <td>803.678368</td>\n",
       "      <td>0.000044</td>\n",
       "      <td>0.934829</td>\n",
       "    </tr>\n",
       "    <tr>\n",
       "      <th>44</th>\n",
       "      <td>0.990220</td>\n",
       "      <td>64</td>\n",
       "      <td>0.057395</td>\n",
       "      <td>0.000078</td>\n",
       "      <td>ok</td>\n",
       "      <td>785.528910</td>\n",
       "      <td>0.003478</td>\n",
       "      <td>0.933386</td>\n",
       "    </tr>\n",
       "    <tr>\n",
       "      <th>37</th>\n",
       "      <td>0.987775</td>\n",
       "      <td>32</td>\n",
       "      <td>0.055611</td>\n",
       "      <td>0.000018</td>\n",
       "      <td>ok</td>\n",
       "      <td>855.304644</td>\n",
       "      <td>0.000061</td>\n",
       "      <td>0.932844</td>\n",
       "    </tr>\n",
       "    <tr>\n",
       "      <th>30</th>\n",
       "      <td>0.988998</td>\n",
       "      <td>48</td>\n",
       "      <td>0.059515</td>\n",
       "      <td>0.000014</td>\n",
       "      <td>ok</td>\n",
       "      <td>803.917024</td>\n",
       "      <td>0.148601</td>\n",
       "      <td>0.930138</td>\n",
       "    </tr>\n",
       "    <tr>\n",
       "      <th>31</th>\n",
       "      <td>0.991443</td>\n",
       "      <td>48</td>\n",
       "      <td>0.062161</td>\n",
       "      <td>0.000136</td>\n",
       "      <td>ok</td>\n",
       "      <td>803.593891</td>\n",
       "      <td>0.000194</td>\n",
       "      <td>0.929813</td>\n",
       "    </tr>\n",
       "    <tr>\n",
       "      <th>39</th>\n",
       "      <td>0.987775</td>\n",
       "      <td>32</td>\n",
       "      <td>0.064593</td>\n",
       "      <td>0.000162</td>\n",
       "      <td>ok</td>\n",
       "      <td>854.470828</td>\n",
       "      <td>0.000016</td>\n",
       "      <td>0.923972</td>\n",
       "    </tr>\n",
       "    <tr>\n",
       "      <th>22</th>\n",
       "      <td>0.987775</td>\n",
       "      <td>48</td>\n",
       "      <td>0.065198</td>\n",
       "      <td>0.000044</td>\n",
       "      <td>ok</td>\n",
       "      <td>804.524059</td>\n",
       "      <td>0.000023</td>\n",
       "      <td>0.923374</td>\n",
       "    </tr>\n",
       "    <tr>\n",
       "      <th>42</th>\n",
       "      <td>0.988998</td>\n",
       "      <td>64</td>\n",
       "      <td>0.067474</td>\n",
       "      <td>0.000246</td>\n",
       "      <td>ok</td>\n",
       "      <td>783.014548</td>\n",
       "      <td>0.000315</td>\n",
       "      <td>0.922266</td>\n",
       "    </tr>\n",
       "    <tr>\n",
       "      <th>45</th>\n",
       "      <td>0.986553</td>\n",
       "      <td>64</td>\n",
       "      <td>0.065511</td>\n",
       "      <td>0.000119</td>\n",
       "      <td>ok</td>\n",
       "      <td>784.878294</td>\n",
       "      <td>0.000119</td>\n",
       "      <td>0.921923</td>\n",
       "    </tr>\n",
       "    <tr>\n",
       "      <th>48</th>\n",
       "      <td>0.987775</td>\n",
       "      <td>16</td>\n",
       "      <td>0.074814</td>\n",
       "      <td>0.000221</td>\n",
       "      <td>ok</td>\n",
       "      <td>995.380198</td>\n",
       "      <td>0.004952</td>\n",
       "      <td>0.913875</td>\n",
       "    </tr>\n",
       "    <tr>\n",
       "      <th>35</th>\n",
       "      <td>0.988998</td>\n",
       "      <td>48</td>\n",
       "      <td>0.076942</td>\n",
       "      <td>0.000418</td>\n",
       "      <td>ok</td>\n",
       "      <td>803.142842</td>\n",
       "      <td>0.008809</td>\n",
       "      <td>0.912902</td>\n",
       "    </tr>\n",
       "    <tr>\n",
       "      <th>25</th>\n",
       "      <td>0.986553</td>\n",
       "      <td>32</td>\n",
       "      <td>0.079202</td>\n",
       "      <td>0.000363</td>\n",
       "      <td>ok</td>\n",
       "      <td>854.213687</td>\n",
       "      <td>0.900786</td>\n",
       "      <td>0.908416</td>\n",
       "    </tr>\n",
       "    <tr>\n",
       "      <th>11</th>\n",
       "      <td>0.988998</td>\n",
       "      <td>16</td>\n",
       "      <td>0.084892</td>\n",
       "      <td>0.000103</td>\n",
       "      <td>ok</td>\n",
       "      <td>995.561854</td>\n",
       "      <td>0.000007</td>\n",
       "      <td>0.905039</td>\n",
       "    </tr>\n",
       "    <tr>\n",
       "      <th>43</th>\n",
       "      <td>0.986553</td>\n",
       "      <td>64</td>\n",
       "      <td>0.094182</td>\n",
       "      <td>0.000597</td>\n",
       "      <td>ok</td>\n",
       "      <td>782.951058</td>\n",
       "      <td>0.000977</td>\n",
       "      <td>0.893637</td>\n",
       "    </tr>\n",
       "    <tr>\n",
       "      <th>38</th>\n",
       "      <td>0.985330</td>\n",
       "      <td>32</td>\n",
       "      <td>0.095480</td>\n",
       "      <td>0.000822</td>\n",
       "      <td>ok</td>\n",
       "      <td>854.505060</td>\n",
       "      <td>0.000003</td>\n",
       "      <td>0.891251</td>\n",
       "    </tr>\n",
       "    <tr>\n",
       "      <th>6</th>\n",
       "      <td>0.977995</td>\n",
       "      <td>48</td>\n",
       "      <td>0.126334</td>\n",
       "      <td>0.003020</td>\n",
       "      <td>ok</td>\n",
       "      <td>804.406476</td>\n",
       "      <td>0.000001</td>\n",
       "      <td>0.854441</td>\n",
       "    </tr>\n",
       "  </tbody>\n",
       "</table>\n",
       "</div>"
      ],
      "text/plain": [
       "         acc  batch_size      loss    lr_max status        time  weight_decay  \\\n",
       "41  0.995110          64  0.050929  0.000073     ok  785.925107      0.000272   \n",
       "21  0.995110          48  0.056657  0.000038     ok  804.644610      0.000001   \n",
       "40  0.992665          64  0.054839  0.000074     ok  785.247967      0.000212   \n",
       "36  0.992665          32  0.055512  0.000026     ok  853.277575      0.000018   \n",
       "26  0.993888          64  0.057410  0.000025     ok  783.253139      0.459626   \n",
       "24  0.991443          48  0.055415  0.000041     ok  807.265188      0.972279   \n",
       "23  0.992665          48  0.058264  0.000044     ok  803.678368      0.000044   \n",
       "44  0.990220          64  0.057395  0.000078     ok  785.528910      0.003478   \n",
       "37  0.987775          32  0.055611  0.000018     ok  855.304644      0.000061   \n",
       "30  0.988998          48  0.059515  0.000014     ok  803.917024      0.148601   \n",
       "31  0.991443          48  0.062161  0.000136     ok  803.593891      0.000194   \n",
       "39  0.987775          32  0.064593  0.000162     ok  854.470828      0.000016   \n",
       "22  0.987775          48  0.065198  0.000044     ok  804.524059      0.000023   \n",
       "42  0.988998          64  0.067474  0.000246     ok  783.014548      0.000315   \n",
       "45  0.986553          64  0.065511  0.000119     ok  784.878294      0.000119   \n",
       "48  0.987775          16  0.074814  0.000221     ok  995.380198      0.004952   \n",
       "35  0.988998          48  0.076942  0.000418     ok  803.142842      0.008809   \n",
       "25  0.986553          32  0.079202  0.000363     ok  854.213687      0.900786   \n",
       "11  0.988998          16  0.084892  0.000103     ok  995.561854      0.000007   \n",
       "43  0.986553          64  0.094182  0.000597     ok  782.951058      0.000977   \n",
       "38  0.985330          32  0.095480  0.000822     ok  854.505060      0.000003   \n",
       "6   0.977995          48  0.126334  0.003020     ok  804.406476      0.000001   \n",
       "\n",
       "    acc_loss  \n",
       "41  0.944430  \n",
       "21  0.938730  \n",
       "40  0.938229  \n",
       "36  0.937560  \n",
       "26  0.936829  \n",
       "24  0.936502  \n",
       "23  0.934829  \n",
       "44  0.933386  \n",
       "37  0.932844  \n",
       "30  0.930138  \n",
       "31  0.929813  \n",
       "39  0.923972  \n",
       "22  0.923374  \n",
       "42  0.922266  \n",
       "45  0.921923  \n",
       "48  0.913875  \n",
       "35  0.912902  \n",
       "25  0.908416  \n",
       "11  0.905039  \n",
       "43  0.893637  \n",
       "38  0.891251  \n",
       "6   0.854441  "
      ]
     },
     "execution_count": 144,
     "metadata": {},
     "output_type": "execute_result"
    }
   ],
   "source": [
    "df = trials_df.copy()\n",
    "df['acc_loss'] = df.acc * (1 - df.loss)\n",
    "df = df[df.acc > 0.95]\n",
    "# df = df[df.arch_name == 'resnet101']\n",
    "df.sort_values(by='acc_loss', ascending=False)"
   ]
  },
  {
   "cell_type": "code",
   "execution_count": 149,
   "metadata": {},
   "outputs": [
    {
     "data": {
      "text/plain": [
       "<matplotlib.collections.PathCollection at 0x7f7b61da3278>"
      ]
     },
     "execution_count": 149,
     "metadata": {},
     "output_type": "execute_result"
    },
    {
     "data": {
      "image/png": "[encoded data removed]",
      "text/plain": [
       "<Figure size 432x288 with 1 Axes>"
      ]
     },
     "metadata": {},
     "output_type": "display_data"
    }
   ],
   "source": [
    "plt.subplot()\n",
    "plt.xscale('log')\n",
    "plt.yscale('log')\n",
    "plt.minorticks_on()\n",
    "plt.scatter(x=df.lr_max.values, y=df.weight_decay.values, s=(df.acc.values - 0.95)*1000)"
   ]
  },
  {
   "cell_type": "markdown",
   "metadata": {},
   "source": [
    "# TTA Experiments"
   ]
  },
  {
   "cell_type": "code",
   "execution_count": 110,
   "metadata": {},
   "outputs": [
    {
     "name": "stdout",
     "output_type": "stream",
     "text": [
      "............."
     ]
    },
    {
     "data": {
      "text/plain": [
       "(0.0782444745229334, 0.9865525672371638)"
      ]
     },
     "execution_count": 110,
     "metadata": {},
     "output_type": "execute_result"
    }
   ],
   "source": [
    "tta_probs_all = []\n",
    "tta_labels_all = []\n",
    "\n",
    "model.eval()\n",
    "running_loss, running_corrects = 0.0, 0.0\n",
    "dataloaders = load_data(batch_size=64, tta=True)\n",
    "for inputs, labels in dataloaders['valid']:\n",
    "    print('.', end='')\n",
    "    inputs = inputs.to(device)\n",
    "    labels = labels.to(device)\n",
    "    \n",
    "    with torch.set_grad_enabled(False):\n",
    "        ns, ncrops, c, h, w = inputs.size()\n",
    "        outputs = model(inputs.view(-1, c, h, w))\n",
    "        outputs_avg = outputs.view(ns, ncrops, -1).mean(1)\n",
    "        _, preds = torch.max(outputs_avg, 1)\n",
    "        loss = criterion(outputs_avg, labels)\n",
    "        \n",
    "        tta_probs_all.append(outputs_avg.cpu().numpy())\n",
    "        tta_labels_all.append(labels.cpu().numpy())\n",
    "\n",
    "        running_loss += loss.item() * ns\n",
    "        running_corrects += torch.sum(preds == labels.data).cpu().numpy()\n",
    "\n",
    "tta_probs_all = np.concatenate(tta_probs_all)\n",
    "tta_labels_all = np.concatenate(tta_labels_all)\n",
    "        \n",
    "epoch_loss = running_loss / len(dataloaders['valid'].dataset)\n",
    "epoch_acc = running_corrects / len(dataloaders['valid'].dataset)\n",
    "epoch_loss, epoch_acc"
   ]
  },
  {
   "cell_type": "code",
   "execution_count": 83,
   "metadata": {},
   "outputs": [],
   "source": [
    "# np.concatenate(avg_preds_all),\n",
    "# np.concatenate(labels_all)"
   ]
  },
  {
   "cell_type": "code",
   "execution_count": 111,
   "metadata": {},
   "outputs": [
    {
     "name": "stdout",
     "output_type": "stream",
     "text": [
      "............."
     ]
    },
    {
     "data": {
      "text/plain": [
       "(0.07271976198791583, 0.9816625916870416)"
      ]
     },
     "execution_count": 111,
     "metadata": {},
     "output_type": "execute_result"
    }
   ],
   "source": [
    "probs_all = []\n",
    "labels_all = []\n",
    "\n",
    "model.eval()\n",
    "running_loss, running_corrects = 0.0, 0.0\n",
    "dataloaders = load_data(batch_size=64, tta=False)\n",
    "for inputs, labels in dataloaders['valid']:\n",
    "    print('.', end='')\n",
    "    inputs = inputs.to(device)\n",
    "    labels = labels.to(device)\n",
    "    \n",
    "    with torch.set_grad_enabled(False):\n",
    "        outputs = model(inputs.view(-1, c, h, w))\n",
    "        _, preds = torch.max(outputs, 1)\n",
    "        loss = criterion(outputs, labels)\n",
    "        \n",
    "        probs_all.append(outputs)\n",
    "        labels_all.append(labels)\n",
    "\n",
    "        running_loss += loss.item() * ns\n",
    "        running_corrects += torch.sum(preds == labels.data).cpu().numpy()\n",
    "\n",
    "probs_all = np.concatenate(probs_all)\n",
    "labels_all = np.concatenate(labels_all)\n",
    "        \n",
    "epoch_loss = running_loss / len(dataloaders['valid'].dataset)\n",
    "epoch_acc = running_corrects / len(dataloaders['valid'].dataset)\n",
    "epoch_loss, epoch_acc"
   ]
  },
  {
   "cell_type": "code",
   "execution_count": 121,
   "metadata": {},
   "outputs": [
    {
     "name": "stdout",
     "output_type": "stream",
     "text": [
      "0.0 803 0.9816625916870416\n",
      "0.1 804 0.9828850855745721\n",
      "0.2 806 0.9853300733496333\n",
      "0.30000000000000004 806 0.9853300733496333\n",
      "0.4 805 0.9841075794621027\n",
      "0.5 805 0.9841075794621027\n",
      "0.6000000000000001 806 0.9853300733496333\n",
      "0.7000000000000001 806 0.9853300733496333\n",
      "0.8 807 0.9865525672371638\n",
      "0.9 807 0.9865525672371638\n",
      "1.0 807 0.9865525672371638\n"
     ]
    }
   ],
   "source": [
    "for beta in np.linspace(0, 1, 11):\n",
    "    comb_probs = beta * tta_probs_all + (1 - beta) * probs_all\n",
    "    corrects = (comb_probs.argmax(axis=1) == labels_all)\n",
    "    print(beta, corrects.sum(), corrects.mean())"
   ]
  },
  {
   "cell_type": "code",
   "execution_count": 127,
   "metadata": {
    "scrolled": false
   },
   "outputs": [],
   "source": [
    "a = np.asarray(list(zip(tta_probs_all.argmax(axis=1), probs_all.argmax(axis=1), labels_all)))"
   ]
  },
  {
   "cell_type": "code",
   "execution_count": 131,
   "metadata": {},
   "outputs": [
    {
     "data": {
      "text/plain": [
       "array([[ 66,  66,  13],\n",
       "       [ 28,  28,  26],\n",
       "       [ 13,  25,  36],\n",
       "       [ 64,  64,  47],\n",
       "       [ 52,  47,  47],\n",
       "       [ 28,  28,  51],\n",
       "       [ 75,  75,  69],\n",
       "       [ 28,  28,  76],\n",
       "       [ 96,  96,  95],\n",
       "       [ 99,  99,  98],\n",
       "       [ 24,  24, 101]])"
      ]
     },
     "execution_count": 131,
     "metadata": {},
     "output_type": "execute_result"
    }
   ],
   "source": [
    "a[~((a[:,0] == a[:,2]) | (a[:,0] == a[:,2]))]"
   ]
  },
  {
   "cell_type": "markdown",
   "metadata": {},
   "source": [
    "# Cross Validation Model Training"
   ]
  },
  {
   "cell_type": "code",
   "execution_count": 41,
   "metadata": {
    "code_folding": []
   },
   "outputs": [],
   "source": [
    "from flowers.dataset import *"
   ]
  },
  {
   "cell_type": "code",
   "execution_count": 36,
   "metadata": {},
   "outputs": [],
   "source": [
    "train_valid_ds = TrainValidListDataset(data_path, 'train', 'valid')"
   ]
  },
  {
   "cell_type": "code",
   "execution_count": 46,
   "metadata": {
    "scrolled": true
   },
   "outputs": [],
   "source": [
    "from sklearn.model_selection import KFold\n",
    "np.random.seed(13)\n",
    "\n",
    "arch = models.resnet101\n",
    "\n",
    "cv_results = []\n",
    "cv = KFold(n_splits=5, shuffle=True)\n",
    "for i, (train_inds, valid_inds) in enumerate(cv.split(train_valid_ds)):\n",
    "    datasets = {\n",
    "        'train': SubsetDataset(train_valid_ds, train_inds, train_transform),\n",
    "        'valid': SubsetDataset(train_valid_ds, valid_inds, valid_transform_tta)\n",
    "    }\n",
    "    print(f'Fold: {i}', len(datasets['train']), len(datasets['valid']))\n",
    "    batch_size = 48\n",
    "    num_workers = 4\n",
    "    dataloaders = {\n",
    "        'train': torch.utils.data.DataLoader(datasets['train'], batch_size=batch_size,\n",
    "                                             shuffle=True, num_workers=num_workers),\n",
    "        'valid': torch.utils.data.DataLoader(datasets['valid'], batch_size=batch_size,\n",
    "                                             shuffle=False, num_workers=num_workers)\n",
    "    }\n",
    "    epochs = 15\n",
    "    lr_max = 3e-3\n",
    "    weight_decay = 5e-2\n",
    "    \n",
    "    model = create_model(arch)\n",
    "    optimizer = AdamW(filter(lambda p: p.requires_grad, model.parameters()),\n",
    "                      lr=0.01, betas=(0.9, 0.99), weight_decay=weight_decay)\n",
    "    scheduler = OneCycleScheduler(optimizer, lr_max=lr_max,\n",
    "                                  batches=len(dataloaders['train']), epochs=epochs, debug=False)                  \n",
    "    criterion = nn.CrossEntropyLoss()\n",
    "    model, best_loss_head, best_acc_head = train_loop(dataloaders, model, criterion, optimizer, scheduler,\n",
    "                                                      epochs=epochs)\n",
    "    \n",
    "    batch_size = 64\n",
    "    num_workers = 4\n",
    "    dataloaders = {\n",
    "        'train': torch.utils.data.DataLoader(datasets['train'], batch_size=batch_size,\n",
    "                                             shuffle=True, num_workers=num_workers),\n",
    "        'valid': torch.utils.data.DataLoader(datasets['valid'], batch_size=batch_size,\n",
    "                                             shuffle=False, num_workers=num_workers)\n",
    "    }\n",
    "    epochs = 15\n",
    "    lr_max = 7e-5\n",
    "    weight_decay = 2e-4\n",
    "    \n",
    "    unfreeze(model)\n",
    "    optimizer = AdamW(filter(lambda p: p.requires_grad, model.parameters()),\n",
    "                      lr=0.01, betas=(0.9, 0.99), weight_decay=weight_decay)\n",
    "    scheduler = OneCycleScheduler(optimizer, lr_max=lr_max,\n",
    "                                  batches=len(dataloaders['train']), epochs=epochs, debug=False)\n",
    "    criterion = nn.CrossEntropyLoss()\n",
    "    model, best_loss, best_acc = train_loop(dataloaders, model, criterion, optimizer, scheduler,\n",
    "                                            epochs=epochs)\n",
    "    \n",
    "    model_path = f'resnet-cv-{i}.pth'\n",
    "    save_model(model, model_path)\n",
    "    \n",
    "    d = {\n",
    "        'model_path': model_path,\n",
    "        'best_loss_head': best_loss_head,\n",
    "        'best_acc_head': best_acc_head,\n",
    "        'best_loss': best_loss,\n",
    "        'best_acc': best_acc\n",
    "    }\n",
    "    cv_results.append(d)\n",
    "    print(f'Results: {d}')"
   ]
  },
  {
   "cell_type": "code",
   "execution_count": 39,
   "metadata": {},
   "outputs": [
    {
     "data": {
      "text/html": [
       "<div>\n",
       "<style scoped>\n",
       "    .dataframe tbody tr th:only-of-type {\n",
       "        vertical-align: middle;\n",
       "    }\n",
       "\n",
       "    .dataframe tbody tr th {\n",
       "        vertical-align: top;\n",
       "    }\n",
       "\n",
       "    .dataframe thead th {\n",
       "        text-align: right;\n",
       "    }\n",
       "</style>\n",
       "<table border=\"1\" class=\"dataframe\">\n",
       "  <thead>\n",
       "    <tr style=\"text-align: right;\">\n",
       "      <th></th>\n",
       "      <th>best_acc</th>\n",
       "      <th>best_acc_head</th>\n",
       "      <th>best_loss</th>\n",
       "      <th>best_loss_head</th>\n",
       "      <th>model_path</th>\n",
       "    </tr>\n",
       "  </thead>\n",
       "  <tbody>\n",
       "    <tr>\n",
       "      <th>0</th>\n",
       "      <td>0.993216</td>\n",
       "      <td>0.969471</td>\n",
       "      <td>0.038495</td>\n",
       "      <td>0.112781</td>\n",
       "      <td>resnet-cv-0.pth</td>\n",
       "    </tr>\n",
       "    <tr>\n",
       "      <th>1</th>\n",
       "      <td>0.993894</td>\n",
       "      <td>0.971506</td>\n",
       "      <td>0.043253</td>\n",
       "      <td>0.123707</td>\n",
       "      <td>resnet-cv-1.pth</td>\n",
       "    </tr>\n",
       "    <tr>\n",
       "      <th>2</th>\n",
       "      <td>0.981004</td>\n",
       "      <td>0.965400</td>\n",
       "      <td>0.082509</td>\n",
       "      <td>0.146316</td>\n",
       "      <td>resnet-cv-2.pth</td>\n",
       "    </tr>\n",
       "    <tr>\n",
       "      <th>3</th>\n",
       "      <td>0.986431</td>\n",
       "      <td>0.964043</td>\n",
       "      <td>0.073682</td>\n",
       "      <td>0.140441</td>\n",
       "      <td>resnet-cv-3.pth</td>\n",
       "    </tr>\n",
       "    <tr>\n",
       "      <th>4</th>\n",
       "      <td>0.987788</td>\n",
       "      <td>0.976255</td>\n",
       "      <td>0.059606</td>\n",
       "      <td>0.115909</td>\n",
       "      <td>resnet-cv-4.pth</td>\n",
       "    </tr>\n",
       "  </tbody>\n",
       "</table>\n",
       "</div>"
      ],
      "text/plain": [
       "   best_acc  best_acc_head  best_loss  best_loss_head       model_path\n",
       "0  0.993216       0.969471   0.038495        0.112781  resnet-cv-0.pth\n",
       "1  0.993894       0.971506   0.043253        0.123707  resnet-cv-1.pth\n",
       "2  0.981004       0.965400   0.082509        0.146316  resnet-cv-2.pth\n",
       "3  0.986431       0.964043   0.073682        0.140441  resnet-cv-3.pth\n",
       "4  0.987788       0.976255   0.059606        0.115909  resnet-cv-4.pth"
      ]
     },
     "execution_count": 39,
     "metadata": {},
     "output_type": "execute_result"
    }
   ],
   "source": [
    "import pandas as pd\n",
    "cv_results_df = pd.DataFrame(cv_results)\n",
    "cv_results_df"
   ]
  },
  {
   "cell_type": "code",
   "execution_count": 42,
   "metadata": {},
   "outputs": [],
   "source": [
    "# test_ds = torchvision.datasets.ImageFolder(root=str(data_path / 'test'), transform=valid_transform_tta)\n",
    "# test_dl = torch.utils.data.DataLoader(test_ds, batch_size=64, shuffle=False, num_workers=4)"
   ]
  },
  {
   "cell_type": "markdown",
   "metadata": {},
   "source": [
    "# Predict and Submit Test Set"
   ]
  },
  {
   "cell_type": "code",
   "execution_count": 97,
   "metadata": {},
   "outputs": [
    {
     "name": "stdout",
     "output_type": "stream",
     "text": [
      "0 1.0\n",
      "1 0.9987775061124694\n",
      "2 0.9975550122249389\n",
      "3 0.9963325183374083\n",
      "4 0.9951100244498777\n",
      "5 0.9938875305623472\n",
      "6 0.9926650366748166\n",
      "7 0.991442542787286\n",
      "8 0.9902200488997555\n",
      "9 0.988997555012225\n",
      "10 0.9877750611246944\n",
      "11 0.9865525672371638\n",
      "12 0.9853300733496333\n",
      "13 0.9841075794621027\n",
      "14 0.9828850855745721\n",
      "15 0.9816625916870416\n",
      "16 0.980440097799511\n",
      "17 0.9792176039119804\n",
      "18 0.9779951100244498\n",
      "19 0.9767726161369193\n"
     ]
    }
   ],
   "source": [
    "n = 818\n",
    "for i in range(20):\n",
    "    print(i, (n - i) / n)"
   ]
  },
  {
   "cell_type": "code",
   "execution_count": 58,
   "metadata": {},
   "outputs": [],
   "source": [
    "from flowers.test_predict import *"
   ]
  },
  {
   "cell_type": "code",
   "execution_count": 60,
   "metadata": {},
   "outputs": [
    {
     "name": "stdout",
     "output_type": "stream",
     "text": [
      "............."
     ]
    }
   ],
   "source": [
    "test_ds = torchvision.datasets.ImageFolder(root=str(data_path / 'test'), transform=valid_transform_tta)\n",
    "test_dl = torch.utils.data.DataLoader(test_ds, batch_size=64, shuffle=False, num_workers=4)\n",
    "test_preds = predict_test(test_dl, model)\n",
    "# test_preds = ensemble_predict_test(models.resnet101, test_dl, [f'resnet-cv-{i}.pth' for i in range(5)])"
   ]
  },
  {
   "cell_type": "code",
   "execution_count": 63,
   "metadata": {},
   "outputs": [],
   "source": [
    "idx_to_class = {v: k for k, v in dataloaders['valid'].dataset.class_to_idx.items()}"
   ]
  },
  {
   "cell_type": "code",
   "execution_count": 64,
   "metadata": {},
   "outputs": [
    {
     "name": "stdout",
     "output_type": "stream",
     "text": [
      "Saved to file: submission.csv\n"
     ]
    }
   ],
   "source": [
    "create_submission(test_preds, idx_to_class, fn='submission.csv')"
   ]
  },
  {
   "cell_type": "code",
   "execution_count": 44,
   "metadata": {},
   "outputs": [],
   "source": [
    "# !ls -lah |grep submission"
   ]
  },
  {
   "cell_type": "code",
   "execution_count": 43,
   "metadata": {},
   "outputs": [],
   "source": [
    "# !kaggle competitions submit oxford-102-flower-pytorch -f submission.csv\\\n",
    "#  -m \"resnet101, 15 epochs, bs 48/64, 1cycle + other fastai tricks, lr=3e-3/7e-5, AdamW wd=5e-2/2e-4, basic affine aug, 45 rot, 10xTTA, retrained\""
   ]
  }
 ],
 "metadata": {
  "kernelspec": {
   "display_name": "Environment (conda_pytorch_p36)",
   "language": "python",
   "name": "conda_pytorch_p36"
  },
  "language_info": {
   "codemirror_mode": {
    "name": "ipython",
    "version": 3
   },
   "file_extension": ".py",
   "mimetype": "text/x-python",
   "name": "python",
   "nbconvert_exporter": "python",
   "pygments_lexer": "ipython3",
   "version": "3.6.5"
  }
 },
 "nbformat": 4,
 "nbformat_minor": 2
}
